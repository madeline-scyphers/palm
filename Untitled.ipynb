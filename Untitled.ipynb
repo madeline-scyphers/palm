{
 "cells": [
  {
   "cell_type": "code",
   "execution_count": 1,
   "id": "6b4ea2a1-8e60-4471-921e-bbd61bde2781",
   "metadata": {},
   "outputs": [],
   "source": [
    "import sys\n",
    "sys.path.append(\"canopy_generator\")\n",
    "from canopy_generator.generate_canopy import generate_canopy"
   ]
  },
  {
   "cell_type": "code",
   "execution_count": 2,
   "id": "91b2abaf-5050-4406-b883-7baeeeff3a38",
   "metadata": {},
   "outputs": [],
   "source": [
    "\n",
    "from landlab import RasterModelGrid\n",
    "import numpy as np\n",
    "from landlab.plot.imshow import imshow_grid_at_node\n",
    "import matplotlib.pyplot as plt"
   ]
  },
  {
   "cell_type": "code",
   "execution_count": 3,
   "id": "e89a8abb-898f-4c41-b6d1-f19ad57ced03",
   "metadata": {},
   "outputs": [],
   "source": [
    "%matplotlib inline"
   ]
  },
  {
   "cell_type": "code",
   "execution_count": 4,
   "id": "56827c65-1b49-487c-8c56-3ae525dcfe46",
   "metadata": {},
   "outputs": [],
   "source": [
    "mg = RasterModelGrid((10, 10))"
   ]
  },
  {
   "cell_type": "code",
   "execution_count": 5,
   "id": "c85abd48-bcfc-4b65-9d4d-7e69ba776425",
   "metadata": {},
   "outputs": [],
   "source": [
    "min_x = 2.5\n",
    "max_x = 5.0\n",
    "min_y = 3.5\n",
    "max_y = 7.5\n"
   ]
  },
  {
   "cell_type": "code",
   "execution_count": 6,
   "id": "c5998672-7b48-4936-ae83-9598b1890a4b",
   "metadata": {},
   "outputs": [],
   "source": [
    "x_condition = np.logical_and(mg.x_of_node < max_x, mg.x_of_node > min_x)\n",
    "y_condition = np.logical_and(mg.y_of_node < max_y, mg.y_of_node > min_y)\n",
    "my_nodes = np.logical_and(x_condition, y_condition)"
   ]
  },
  {
   "cell_type": "code",
   "execution_count": 7,
   "id": "dde4125b-5d10-40d8-9499-0b4a127d00d5",
   "metadata": {},
   "outputs": [],
   "source": [
    "mg.status_at_node[my_nodes] = mg.BC_NODE_IS_CLOSED"
   ]
  },
  {
   "cell_type": "code",
   "execution_count": 8,
   "id": "23785fa3-f79e-4a6e-9e41-360165c4e543",
   "metadata": {},
   "outputs": [],
   "source": [
    "z = mg.add_zeros(\"topographic__elevation\", at=\"node\")\n"
   ]
  },
  {
   "cell_type": "code",
   "execution_count": 12,
   "id": "c606bc63-429c-4355-a8ca-1fbb0b70a531",
   "metadata": {},
   "outputs": [],
   "source": [
    "z += 100"
   ]
  },
  {
   "cell_type": "code",
   "execution_count": 14,
   "id": "89a5b9c7-e60d-4d40-9d3a-0fb0b3b4f182",
   "metadata": {},
   "outputs": [
    {
     "data": {
      "text/plain": [
       "array([ 100.,  100.,  100.,  100.,  100.,  100.,  100.,  100.,  100.,\n",
       "        100.,  100.,  100.,  100.,  100.,  100.,  100.,  100.,  100.,\n",
       "        100.,  100.,  100.,  100.,  100.,  100.,  100.,  100.,  100.,\n",
       "        100.,  100.,  100.,  100.,  100.,  100.,  100.,  100.,  100.,\n",
       "        100.,  100.,  100.,  100.,  100.,  100.,  100.,  100.,  100.,\n",
       "        100.,  100.,  100.,  100.,  100.,  100.,  100.,  100.,  100.,\n",
       "        100.,  100.,  100.,  100.,  100.,  100.,  100.,  100.,  100.,\n",
       "        100.,  100.,  100.,  100.,  100.,  100.,  100.,  100.,  100.,\n",
       "        100.,  100.,  100.,  100.,  100.,  100.,  100.,  100.,  100.,\n",
       "        100.,  100.,  100.,  100.,  100.,  100.,  100.,  100.,  100.,\n",
       "        100.,  100.,  100.,  100.,  100.,  100.,  100.,  100.,  100.,  100.])"
      ]
     },
     "execution_count": 14,
     "metadata": {},
     "output_type": "execute_result"
    }
   ],
   "source": [
    "z"
   ]
  },
  {
   "cell_type": "code",
   "execution_count": 13,
   "id": "f7724930-c20c-4cc8-8e18-7d5560575905",
   "metadata": {},
   "outputs": [
    {
     "data": {
      "image/png": "[encoded data removed]",
      "text/plain": [
       "<Figure size 432x288 with 2 Axes>"
      ]
     },
     "metadata": {
      "needs_background": "light"
     },
     "output_type": "display_data"
    }
   ],
   "source": [
    "imshow_grid_at_node(mg, 'topographic__elevation')"
   ]
  },
  {
   "cell_type": "code",
   "execution_count": 18,
   "id": "f25ae082-17fc-4272-b85c-aece87d35294",
   "metadata": {},
   "outputs": [
    {
     "ename": "GroupError",
     "evalue": "topographic__elevation",
     "output_type": "error",
     "traceback": [
      "\u001b[0;31m---------------------------------------------------------------------------\u001b[0m",
      "\u001b[0;31mAttributeError\u001b[0m                            Traceback (most recent call last)",
      "File \u001b[0;32m~/.local/lib/python3.8/site-packages/landlab/field/graph_field.py:428\u001b[0m, in \u001b[0;36mGraphFields.__getitem__\u001b[0;34m(self, name)\u001b[0m\n\u001b[1;32m    427\u001b[0m \u001b[38;5;28;01mtry\u001b[39;00m:\n\u001b[0;32m--> 428\u001b[0m     \u001b[38;5;28;01mreturn\u001b[39;00m \u001b[38;5;28;43mgetattr\u001b[39;49m\u001b[43m(\u001b[49m\u001b[38;5;28;43mself\u001b[39;49m\u001b[43m,\u001b[49m\u001b[43m \u001b[49m\u001b[38;5;124;43m\"\u001b[39;49m\u001b[38;5;124;43mat_\u001b[39;49m\u001b[38;5;124;43m\"\u001b[39;49m\u001b[43m \u001b[49m\u001b[38;5;241;43m+\u001b[39;49m\u001b[43m \u001b[49m\u001b[43mname\u001b[49m\u001b[43m)\u001b[49m\n\u001b[1;32m    429\u001b[0m \u001b[38;5;28;01mexcept\u001b[39;00m \u001b[38;5;167;01mAttributeError\u001b[39;00m:\n",
      "\u001b[0;31mAttributeError\u001b[0m: 'RasterModelGrid' object has no attribute 'at_topographic__elevation'",
      "\nDuring handling of the above exception, another exception occurred:\n",
      "\u001b[0;31mGroupError\u001b[0m                                Traceback (most recent call last)",
      "Input \u001b[0;32mIn [18]\u001b[0m, in \u001b[0;36m<module>\u001b[0;34m\u001b[0m\n\u001b[0;32m----> 1\u001b[0m \u001b[43mmg\u001b[49m\u001b[43m[\u001b[49m\u001b[38;5;124;43m\"\u001b[39;49m\u001b[38;5;124;43mtopographic__elevation\u001b[39;49m\u001b[38;5;124;43m\"\u001b[39;49m\u001b[43m]\u001b[49m\n",
      "File \u001b[0;32m~/.local/lib/python3.8/site-packages/landlab/field/graph_field.py:430\u001b[0m, in \u001b[0;36mGraphFields.__getitem__\u001b[0;34m(self, name)\u001b[0m\n\u001b[1;32m    428\u001b[0m     \u001b[38;5;28;01mreturn\u001b[39;00m \u001b[38;5;28mgetattr\u001b[39m(\u001b[38;5;28mself\u001b[39m, \u001b[38;5;124m\"\u001b[39m\u001b[38;5;124mat_\u001b[39m\u001b[38;5;124m\"\u001b[39m \u001b[38;5;241m+\u001b[39m name)\n\u001b[1;32m    429\u001b[0m \u001b[38;5;28;01mexcept\u001b[39;00m \u001b[38;5;167;01mAttributeError\u001b[39;00m:\n\u001b[0;32m--> 430\u001b[0m     \u001b[38;5;28;01mraise\u001b[39;00m GroupError(name)\n",
      "\u001b[0;31mGroupError\u001b[0m: topographic__elevation"
     ]
    }
   ],
   "source": [
    "mg[\"topographic__elevation\"]"
   ]
  },
  {
   "cell_type": "code",
   "execution_count": 26,
   "id": "9806a2bc-476f-4b00-8709-53d78ac12492",
   "metadata": {},
   "outputs": [],
   "source": [
    "plt.show()"
   ]
  },
  {
   "cell_type": "code",
   "execution_count": 27,
   "id": "0b21c5c7-8016-4aca-9275-c596896e3eb6",
   "metadata": {},
   "outputs": [
    {
     "data": {
      "text/plain": [
       "RasterModelGrid((10, 10), xy_spacing=(1.0, 1.0), xy_of_lower_left=(0.0, 0.0))"
      ]
     },
     "execution_count": 27,
     "metadata": {},
     "output_type": "execute_result"
    }
   ],
   "source": [
    "mg"
   ]
  },
  {
   "cell_type": "code",
   "execution_count": 31,
   "id": "7dd32882-ed90-4366-9e3f-35bacdd2ec31",
   "metadata": {},
   "outputs": [
    {
     "ename": "AttributeError",
     "evalue": "'RasterModelGrid' object has no attribute 'min'",
     "output_type": "error",
     "traceback": [
      "\u001b[0;31m---------------------------------------------------------------------------\u001b[0m",
      "\u001b[0;31mAttributeError\u001b[0m                            Traceback (most recent call last)",
      "Input \u001b[0;32mIn [31]\u001b[0m, in \u001b[0;36m<module>\u001b[0;34m\u001b[0m\n\u001b[0;32m----> 1\u001b[0m \u001b[43mmg\u001b[49m\u001b[38;5;241;43m.\u001b[39;49m\u001b[43mmin\u001b[49m()\n",
      "\u001b[0;31mAttributeError\u001b[0m: 'RasterModelGrid' object has no attribute 'min'"
     ]
    }
   ],
   "source": [
    "mg.min()"
   ]
  },
  {
   "cell_type": "code",
   "execution_count": null,
   "id": "5317c939-5752-4535-b34b-8aeb45dbb987",
   "metadata": {},
   "outputs": [],
   "source": [
    "fu"
   ]
  }
 ],
 "metadata": {
  "kernelspec": {
   "display_name": "Python 3 (ipykernel)",
   "language": "python",
   "name": "python3"
  },
  "language_info": {
   "codemirror_mode": {
    "name": "ipython",
    "version": 3
   },
   "file_extension": ".py",
   "mimetype": "text/x-python",
   "name": "python",
   "nbconvert_exporter": "python",
   "pygments_lexer": "ipython3",
   "version": "3.8.10"
  }
 },
 "nbformat": 4,
 "nbformat_minor": 5
}
